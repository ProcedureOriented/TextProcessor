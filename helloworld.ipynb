{
 "cells": [
  {
   "cell_type": "markdown",
   "metadata": {},
   "source": [
    "# HelloWorld！\n",
    "简易示例程序"
   ]
  },
  {
   "cell_type": "code",
   "execution_count": 16,
   "metadata": {},
   "outputs": [],
   "source": [
    "from TextProcessor import *\n",
    "\n",
    "import os\n",
    "import math\n",
    "import datetime\n",
    "import jieba\n",
    "import pandas as pd\n",
    "import matplotlib.pyplot as plt\n",
    "import tensorflow as tf\n",
    "from tensorflow.keras import Sequential\n",
    "from tensorflow.keras.layers import Dense, Embedding, GlobalAveragePooling1D, LSTMCell, LSTM, Bidirectional\n",
    "from tensorflow.keras.layers import TextVectorization"
   ]
  },
  {
   "cell_type": "markdown",
   "metadata": {},
   "source": [
    "# 1 分词，取高频词标注词性【人工】"
   ]
  },
  {
   "cell_type": "code",
   "execution_count": 2,
   "metadata": {},
   "outputs": [],
   "source": [
    "# 读取数据和词频统计\n",
    "total = pd.read_csv('data/webnews/2010.csv', usecols=['Newstitle'], encoding='utf-8-sig')\n",
    "total.drop_duplicates(inplace=True)"
   ]
  },
  {
   "cell_type": "code",
   "execution_count": 3,
   "metadata": {},
   "outputs": [
    {
     "name": "stderr",
     "output_type": "stream",
     "text": [
      "Building prefix dict from the default dictionary ...\n",
      "Dumping model to file cache /var/folders/jw/c7byzd457pxcb_zjhzf_fjq40000gn/T/jieba.cache\n",
      "Loading model cost 0.376 seconds.\n",
      "Prefix dict has been built successfully.\n"
     ]
    }
   ],
   "source": [
    "# 清洗和分词，统计词频\n",
    "wordcount = generate_word(total['Newstitle'] ,clearfy=True)"
   ]
  },
  {
   "cell_type": "code",
   "execution_count": 4,
   "metadata": {},
   "outputs": [
    {
     "data": {
      "text/html": [
       "<div>\n",
       "<style scoped>\n",
       "    .dataframe tbody tr th:only-of-type {\n",
       "        vertical-align: middle;\n",
       "    }\n",
       "\n",
       "    .dataframe tbody tr th {\n",
       "        vertical-align: top;\n",
       "    }\n",
       "\n",
       "    .dataframe thead th {\n",
       "        text-align: right;\n",
       "    }\n",
       "</style>\n",
       "<table border=\"1\" class=\"dataframe\">\n",
       "  <thead>\n",
       "    <tr style=\"text-align: right;\">\n",
       "      <th></th>\n",
       "      <th>word</th>\n",
       "      <th>count</th>\n",
       "    </tr>\n",
       "  </thead>\n",
       "  <tbody>\n",
       "    <tr>\n",
       "      <th>0</th>\n",
       "      <td>月</td>\n",
       "      <td>25027</td>\n",
       "    </tr>\n",
       "    <tr>\n",
       "      <th>1</th>\n",
       "      <td>年</td>\n",
       "      <td>23984</td>\n",
       "    </tr>\n",
       "    <tr>\n",
       "      <th>2</th>\n",
       "      <td>日</td>\n",
       "      <td>21447</td>\n",
       "    </tr>\n",
       "    <tr>\n",
       "      <th>3</th>\n",
       "      <td>股份</td>\n",
       "      <td>19182</td>\n",
       "    </tr>\n",
       "    <tr>\n",
       "      <th>4</th>\n",
       "      <td>提示</td>\n",
       "      <td>16325</td>\n",
       "    </tr>\n",
       "    <tr>\n",
       "      <th>...</th>\n",
       "      <td>...</td>\n",
       "      <td>...</td>\n",
       "    </tr>\n",
       "    <tr>\n",
       "      <th>74067</th>\n",
       "      <td>振东</td>\n",
       "      <td>1</td>\n",
       "    </tr>\n",
       "    <tr>\n",
       "      <th>74068</th>\n",
       "      <td>振兮扬</td>\n",
       "      <td>1</td>\n",
       "    </tr>\n",
       "    <tr>\n",
       "      <th>74069</th>\n",
       "      <td>振动</td>\n",
       "      <td>1</td>\n",
       "    </tr>\n",
       "    <tr>\n",
       "      <th>74070</th>\n",
       "      <td>振威</td>\n",
       "      <td>1</td>\n",
       "    </tr>\n",
       "    <tr>\n",
       "      <th>74071</th>\n",
       "      <td>暗升</td>\n",
       "      <td>1</td>\n",
       "    </tr>\n",
       "  </tbody>\n",
       "</table>\n",
       "<p>74072 rows × 2 columns</p>\n",
       "</div>"
      ],
      "text/plain": [
       "      word  count\n",
       "0        月  25027\n",
       "1        年  23984\n",
       "2        日  21447\n",
       "3       股份  19182\n",
       "4       提示  16325\n",
       "...    ...    ...\n",
       "74067   振东      1\n",
       "74068  振兮扬      1\n",
       "74069   振动      1\n",
       "74070   振威      1\n",
       "74071   暗升      1\n",
       "\n",
       "[74072 rows x 2 columns]"
      ]
     },
     "execution_count": 4,
     "metadata": {},
     "output_type": "execute_result"
    }
   ],
   "source": [
    "wordcount"
   ]
  },
  {
   "cell_type": "code",
   "execution_count": 5,
   "metadata": {},
   "outputs": [
    {
     "name": "stdout",
     "output_type": "stream",
     "text": [
      "dictionary size (counts >= 2000): 130\n",
      "dictionary size (counts >= 2000): 327\n"
     ]
    },
    {
     "data": {
      "image/png": "[encoded data removed]",
      "text/plain": [
       "<Figure size 432x288 with 1 Axes>"
      ]
     },
     "metadata": {
      "needs_background": "light"
     },
     "output_type": "display_data"
    }
   ],
   "source": [
    "# 生成词典\n",
    "# 根据wordcount生成新词典\n",
    "worddict = generate_dict(wordcount, 2000)\n",
    "worddict.to_csv('dict/Worddict_sample.csv', index=False, encoding='utf-8-sig')\n",
    "\n",
    "# 读取旧词典\n",
    "olddict = pd.read_csv('dict/old/olddict.csv', encoding='utf-8-sig')\n",
    "worddict = generate_dict(wordcount, threshold=2000, merge=True, mergedict=olddict)\n",
    "worddict.to_csv('dict/Worddict_sample.csv', index=False, encoding='utf-8-sig')"
   ]
  },
  {
   "cell_type": "markdown",
   "metadata": {},
   "source": [
    "## 人工标注..."
   ]
  },
  {
   "cell_type": "markdown",
   "metadata": {},
   "source": [
    "分类标签  \n",
    "sentiment：1-负面，2-中性，3-正面  \n",
    "topic：0-无主题，1-公司业绩，2-产品，3-股价和融资，4-公司重大事项或董事会行为"
   ]
  },
  {
   "cell_type": "markdown",
   "metadata": {},
   "source": [
    "# 2 基于关键词初步分类"
   ]
  },
  {
   "cell_type": "code",
   "execution_count": 6,
   "metadata": {},
   "outputs": [],
   "source": [
    "# 读取字典，去除未标记的\n",
    "worddict = pd.read_csv('dict/Worddict_edit.csv', encoding='utf-8-sig')\n",
    "worddict = worddict.dropna(subset=['sentiment'])\n",
    "worddict = worddict[~( (worddict['sentiment']==2) & (worddict['topic'].isna()) )].copy()"
   ]
  },
  {
   "cell_type": "code",
   "execution_count": 8,
   "metadata": {},
   "outputs": [
    {
     "name": "stdout",
     "output_type": "stream",
     "text": [
      "Processing: 1\n",
      "Processing: 3\n"
     ]
    }
   ],
   "source": [
    "# 关键词分类\n",
    "result = pre_classify(\n",
    "    text = total['Newstitle'], \n",
    "    dictionary= worddict, \n",
    "    feature='sentiment', \n",
    "    value=[1,3], \n",
    "    absolute=True\n",
    "    )"
   ]
  },
  {
   "cell_type": "code",
   "execution_count": 17,
   "metadata": {},
   "outputs": [
    {
     "data": {
      "image/png": "[encoded data removed]",
      "text/plain": [
       "<Figure size 720x288 with 2 Axes>"
      ]
     },
     "metadata": {
      "needs_background": "light"
     },
     "output_type": "display_data"
    }
   ],
   "source": [
    "# 看评分分布\n",
    "plot_score(result=result, feature='sentiment', classes=[1,3], wide=2)"
   ]
  },
  {
   "cell_type": "code",
   "execution_count": 76,
   "metadata": {},
   "outputs": [],
   "source": [
    "neg = result[(result['sentiment']=='1') & (result['score']>=3)].sort_values(by='score', ascending=False).drop_duplicates()\n",
    "pos = result[(result['sentiment']=='3') & (result['score']>=7)].sort_values(by='score', ascending=False).drop_duplicates()\n",
    "mid = result[(result['score']==0) & (result[1]==0)].copy()\n",
    "mid['sentiment'] = 2\n",
    "\n",
    "# 保存成训练集\n",
    "data = pd.concat([pos,neg,mid], ignore_index=True)\n",
    "# 处理文本，分词\n",
    "stopwords = pd.read_csv('dict/stopword.csv', encoding='utf-8-sig')\n",
    "data['Newstitle'] = clean_text(data['Newstitle'], stopwords['Coname'].to_list())\n",
    "data.dropna(inplace=True)\n",
    "data.drop_duplicates('Newstitle',inplace=True)\n",
    "data[['Newstitle', 'sentiment']].to_csv('output/sample.csv', index=False, encoding='utf-8-sig')"
   ]
  },
  {
   "cell_type": "markdown",
   "metadata": {},
   "source": [
    "## 人工检查...(可选)"
   ]
  },
  {
   "cell_type": "markdown",
   "metadata": {},
   "source": [
    "# 3 循环1: 样本自检"
   ]
  },
  {
   "cell_type": "code",
   "execution_count": 9,
   "metadata": {},
   "outputs": [],
   "source": [
    "# 读取样本\n",
    "data = pd.read_csv('output/sample.csv', encoding='utf-8-sig')\n",
    "data.dropna(inplace=True)\n",
    "data.reset_index(inplace=True, drop=True)"
   ]
  },
  {
   "cell_type": "markdown",
   "metadata": {},
   "source": [
    "## 3.1 词向量化和TensorFlow模型"
   ]
  },
  {
   "cell_type": "code",
   "execution_count": 19,
   "metadata": {},
   "outputs": [
    {
     "name": "stderr",
     "output_type": "stream",
     "text": [
      "2022-05-05 23:40:04.473511: I tensorflow/core/grappler/optimizers/custom_graph_optimizer_registry.cc:113] Plugin optimizer for device_type GPU is enabled.\n"
     ]
    },
    {
     "name": "stdout",
     "output_type": "stream",
     "text": [
      "Epoch 1/5\n"
     ]
    },
    {
     "name": "stderr",
     "output_type": "stream",
     "text": [
      "2022-05-05 23:40:06.717879: I tensorflow/core/grappler/optimizers/custom_graph_optimizer_registry.cc:113] Plugin optimizer for device_type GPU is enabled.\n",
      "2022-05-05 23:40:06.929913: I tensorflow/core/grappler/optimizers/custom_graph_optimizer_registry.cc:113] Plugin optimizer for device_type GPU is enabled.\n",
      "2022-05-05 23:40:06.940994: I tensorflow/core/grappler/optimizers/custom_graph_optimizer_registry.cc:113] Plugin optimizer for device_type GPU is enabled.\n",
      "2022-05-05 23:40:07.782478: I tensorflow/core/grappler/optimizers/custom_graph_optimizer_registry.cc:113] Plugin optimizer for device_type GPU is enabled.\n",
      "2022-05-05 23:40:07.797895: I tensorflow/core/grappler/optimizers/custom_graph_optimizer_registry.cc:113] Plugin optimizer for device_type GPU is enabled.\n"
     ]
    },
    {
     "name": "stdout",
     "output_type": "stream",
     "text": [
      "668/668 [==============================] - ETA: 0s - loss: 0.3441 - accuracy: 0.8661"
     ]
    },
    {
     "name": "stderr",
     "output_type": "stream",
     "text": [
      "2022-05-05 23:40:25.051572: I tensorflow/core/grappler/optimizers/custom_graph_optimizer_registry.cc:113] Plugin optimizer for device_type GPU is enabled.\n",
      "2022-05-05 23:40:25.130643: I tensorflow/core/grappler/optimizers/custom_graph_optimizer_registry.cc:113] Plugin optimizer for device_type GPU is enabled.\n",
      "2022-05-05 23:40:25.137953: I tensorflow/core/grappler/optimizers/custom_graph_optimizer_registry.cc:113] Plugin optimizer for device_type GPU is enabled.\n"
     ]
    },
    {
     "name": "stdout",
     "output_type": "stream",
     "text": [
      "668/668 [==============================] - 23s 30ms/step - loss: 0.3441 - accuracy: 0.8661 - val_loss: 0.0716 - val_accuracy: 0.9854\n",
      "Epoch 2/5\n",
      "668/668 [==============================] - 19s 28ms/step - loss: 0.0728 - accuracy: 0.9886 - val_loss: 0.0257 - val_accuracy: 0.9937\n",
      "Epoch 3/5\n",
      "668/668 [==============================] - 19s 28ms/step - loss: 0.0349 - accuracy: 0.9978 - val_loss: 0.0242 - val_accuracy: 0.9949\n",
      "Epoch 4/5\n",
      "668/668 [==============================] - 19s 28ms/step - loss: 0.0199 - accuracy: 0.9996 - val_loss: 0.0266 - val_accuracy: 0.9956\n",
      "Epoch 5/5\n",
      "668/668 [==============================] - 19s 29ms/step - loss: 0.0126 - accuracy: 0.9997 - val_loss: 0.0298 - val_accuracy: 0.9961\n"
     ]
    }
   ],
   "source": [
    "model = use_default_model(data['Newstitle'], data['sentiment'])"
   ]
  },
  {
   "cell_type": "markdown",
   "metadata": {},
   "source": [
    "## 3.2 样本检查\n",
    "自检使用本身的样本data"
   ]
  },
  {
   "cell_type": "code",
   "execution_count": 100,
   "metadata": {},
   "outputs": [
    {
     "name": "stderr",
     "output_type": "stream",
     "text": [
      "2022-05-02 19:51:58.574937: I tensorflow/core/grappler/optimizers/custom_graph_optimizer_registry.cc:113] Plugin optimizer for device_type GPU is enabled.\n"
     ]
    }
   ],
   "source": [
    "result = classify(model, data['Newstitle'].to_list(), [1,2,3], 'sentiment')\n",
    "diff, idx = compare(data, result, 'sentiment')"
   ]
  },
  {
   "cell_type": "code",
   "execution_count": 103,
   "metadata": {},
   "outputs": [
    {
     "data": {
      "text/html": [
       "<div>\n",
       "<style scoped>\n",
       "    .dataframe tbody tr th:only-of-type {\n",
       "        vertical-align: middle;\n",
       "    }\n",
       "\n",
       "    .dataframe tbody tr th {\n",
       "        vertical-align: top;\n",
       "    }\n",
       "\n",
       "    .dataframe thead th {\n",
       "        text-align: right;\n",
       "    }\n",
       "</style>\n",
       "<table border=\"1\" class=\"dataframe\">\n",
       "  <thead>\n",
       "    <tr style=\"text-align: right;\">\n",
       "      <th></th>\n",
       "      <th>Newstitle</th>\n",
       "      <th>sentiment</th>\n",
       "      <th>1</th>\n",
       "      <th>2</th>\n",
       "      <th>3</th>\n",
       "      <th>sentiment</th>\n",
       "      <th>score</th>\n",
       "    </tr>\n",
       "  </thead>\n",
       "  <tbody>\n",
       "    <tr>\n",
       "      <th>467</th>\n",
       "      <td>推出 首款 量产 混合 动 轿车</td>\n",
       "      <td>3</td>\n",
       "      <td>0.098667</td>\n",
       "      <td>0.825490</td>\n",
       "      <td>0.075843</td>\n",
       "      <td>2</td>\n",
       "      <td>0.825490</td>\n",
       "    </tr>\n",
       "    <tr>\n",
       "      <th>822</th>\n",
       "      <td>中国 南车 大 股东 拟 亿 护盘 新一轮 增持潮 再现</td>\n",
       "      <td>3</td>\n",
       "      <td>0.741825</td>\n",
       "      <td>0.088574</td>\n",
       "      <td>0.169601</td>\n",
       "      <td>1</td>\n",
       "      <td>0.741825</td>\n",
       "    </tr>\n",
       "    <tr>\n",
       "      <th>1226</th>\n",
       "      <td>亿 增资 蒙维 科技 欲 做 聚乙烯醇</td>\n",
       "      <td>3</td>\n",
       "      <td>0.516984</td>\n",
       "      <td>0.111063</td>\n",
       "      <td>0.371953</td>\n",
       "      <td>1</td>\n",
       "      <td>0.516984</td>\n",
       "    </tr>\n",
       "    <tr>\n",
       "      <th>2220</th>\n",
       "      <td>南海发展 水务 新兴产业 遍地开花</td>\n",
       "      <td>3</td>\n",
       "      <td>0.196058</td>\n",
       "      <td>0.443164</td>\n",
       "      <td>0.360779</td>\n",
       "      <td>2</td>\n",
       "      <td>0.443164</td>\n",
       "    </tr>\n",
       "    <tr>\n",
       "      <th>2350</th>\n",
       "      <td>十个 亿 计划 曝光 煤炭 重组 或 掀 新高潮</td>\n",
       "      <td>3</td>\n",
       "      <td>0.522584</td>\n",
       "      <td>0.262532</td>\n",
       "      <td>0.214884</td>\n",
       "      <td>1</td>\n",
       "      <td>0.522584</td>\n",
       "    </tr>\n",
       "    <tr>\n",
       "      <th>...</th>\n",
       "      <td>...</td>\n",
       "      <td>...</td>\n",
       "      <td>...</td>\n",
       "      <td>...</td>\n",
       "      <td>...</td>\n",
       "      <td>...</td>\n",
       "      <td>...</td>\n",
       "    </tr>\n",
       "    <tr>\n",
       "      <th>7831</th>\n",
       "      <td>为 的 紫砂 煲 不合格 市民 请慎 买</td>\n",
       "      <td>1</td>\n",
       "      <td>0.373293</td>\n",
       "      <td>0.615595</td>\n",
       "      <td>0.011113</td>\n",
       "      <td>2</td>\n",
       "      <td>0.615595</td>\n",
       "    </tr>\n",
       "    <tr>\n",
       "      <th>7838</th>\n",
       "      <td>方舟子 曝唐骏 自传 造假 所涉 大学 已 关门</td>\n",
       "      <td>1</td>\n",
       "      <td>0.387862</td>\n",
       "      <td>0.607448</td>\n",
       "      <td>0.004690</td>\n",
       "      <td>2</td>\n",
       "      <td>0.607448</td>\n",
       "    </tr>\n",
       "    <tr>\n",
       "      <th>7859</th>\n",
       "      <td>董事会 审计 委员会 对 投资 合肥市 国正 小额贷款 有限公司 的 图</td>\n",
       "      <td>1</td>\n",
       "      <td>0.000086</td>\n",
       "      <td>0.999913</td>\n",
       "      <td>0.000001</td>\n",
       "      <td>2</td>\n",
       "      <td>0.999913</td>\n",
       "    </tr>\n",
       "    <tr>\n",
       "      <th>26719</th>\n",
       "      <td>借壳 * 源 发成 定局</td>\n",
       "      <td>2</td>\n",
       "      <td>0.191297</td>\n",
       "      <td>0.273290</td>\n",
       "      <td>0.535413</td>\n",
       "      <td>3</td>\n",
       "      <td>0.535413</td>\n",
       "    </tr>\n",
       "    <tr>\n",
       "      <th>30200</th>\n",
       "      <td>福建 上杭县 称 紫 铜矿 渗入 汀江 废水 无 剧毒 物</td>\n",
       "      <td>2</td>\n",
       "      <td>0.630523</td>\n",
       "      <td>0.368442</td>\n",
       "      <td>0.001035</td>\n",
       "      <td>1</td>\n",
       "      <td>0.630523</td>\n",
       "    </tr>\n",
       "  </tbody>\n",
       "</table>\n",
       "<p>77 rows × 7 columns</p>\n",
       "</div>"
      ],
      "text/plain": [
       "                                  Newstitle  sentiment         1         2  \\\n",
       "467                        推出 首款 量产 混合 动 轿车          3  0.098667  0.825490   \n",
       "822            中国 南车 大 股东 拟 亿 护盘 新一轮 增持潮 再现          3  0.741825  0.088574   \n",
       "1226                    亿 增资 蒙维 科技 欲 做 聚乙烯醇          3  0.516984  0.111063   \n",
       "2220                      南海发展 水务 新兴产业 遍地开花          3  0.196058  0.443164   \n",
       "2350               十个 亿 计划 曝光 煤炭 重组 或 掀 新高潮          3  0.522584  0.262532   \n",
       "...                                     ...        ...       ...       ...   \n",
       "7831                   为 的 紫砂 煲 不合格 市民 请慎 买          1  0.373293  0.615595   \n",
       "7838               方舟子 曝唐骏 自传 造假 所涉 大学 已 关门          1  0.387862  0.607448   \n",
       "7859   董事会 审计 委员会 对 投资 合肥市 国正 小额贷款 有限公司 的 图          1  0.000086  0.999913   \n",
       "26719                          借壳 * 源 发成 定局          2  0.191297  0.273290   \n",
       "30200         福建 上杭县 称 紫 铜矿 渗入 汀江 废水 无 剧毒 物          2  0.630523  0.368442   \n",
       "\n",
       "              3  sentiment     score  \n",
       "467    0.075843          2  0.825490  \n",
       "822    0.169601          1  0.741825  \n",
       "1226   0.371953          1  0.516984  \n",
       "2220   0.360779          2  0.443164  \n",
       "2350   0.214884          1  0.522584  \n",
       "...         ...        ...       ...  \n",
       "7831   0.011113          2  0.615595  \n",
       "7838   0.004690          2  0.607448  \n",
       "7859   0.000001          2  0.999913  \n",
       "26719  0.535413          3  0.535413  \n",
       "30200  0.001035          1  0.630523  \n",
       "\n",
       "[77 rows x 7 columns]"
      ]
     },
     "execution_count": 103,
     "metadata": {},
     "output_type": "execute_result"
    }
   ],
   "source": [
    "diff"
   ]
  },
  {
   "cell_type": "code",
   "execution_count": 102,
   "metadata": {},
   "outputs": [],
   "source": [
    "# 输出需要修正的结果\n",
    "diff.to_csv('output/samplediff.csv', encoding='utf-8-sig', index=False)"
   ]
  },
  {
   "cell_type": "markdown",
   "metadata": {},
   "source": [
    "## 人工检查..."
   ]
  },
  {
   "cell_type": "markdown",
   "metadata": {},
   "source": [
    "## 3.3 修正"
   ]
  },
  {
   "cell_type": "code",
   "execution_count": 107,
   "metadata": {},
   "outputs": [],
   "source": [
    "# 读取修正后的结果\n",
    "diff = pd.read_csv('output/samplediff.csv', encoding='utf-8-sig')"
   ]
  },
  {
   "cell_type": "code",
   "execution_count": 112,
   "metadata": {},
   "outputs": [
    {
     "data": {
      "text/html": [
       "<div>\n",
       "<style scoped>\n",
       "    .dataframe tbody tr th:only-of-type {\n",
       "        vertical-align: middle;\n",
       "    }\n",
       "\n",
       "    .dataframe tbody tr th {\n",
       "        vertical-align: top;\n",
       "    }\n",
       "\n",
       "    .dataframe thead th {\n",
       "        text-align: right;\n",
       "    }\n",
       "</style>\n",
       "<table border=\"1\" class=\"dataframe\">\n",
       "  <thead>\n",
       "    <tr style=\"text-align: right;\">\n",
       "      <th></th>\n",
       "      <th>Newstitle</th>\n",
       "      <th>sentiment</th>\n",
       "    </tr>\n",
       "  </thead>\n",
       "  <tbody>\n",
       "    <tr>\n",
       "      <th>467</th>\n",
       "      <td>推出 首款 量产 混合 动 轿车</td>\n",
       "      <td>3.0</td>\n",
       "    </tr>\n",
       "    <tr>\n",
       "      <th>822</th>\n",
       "      <td>中国 南车 大 股东 拟 亿 护盘 新一轮 增持潮 再现</td>\n",
       "      <td>3.0</td>\n",
       "    </tr>\n",
       "    <tr>\n",
       "      <th>1226</th>\n",
       "      <td>亿 增资 蒙维 科技 欲 做 聚乙烯醇</td>\n",
       "      <td>3.0</td>\n",
       "    </tr>\n",
       "    <tr>\n",
       "      <th>2220</th>\n",
       "      <td>南海发展 水务 新兴产业 遍地开花</td>\n",
       "      <td>3.0</td>\n",
       "    </tr>\n",
       "    <tr>\n",
       "      <th>2350</th>\n",
       "      <td>十个 亿 计划 曝光 煤炭 重组 或 掀 新高潮</td>\n",
       "      <td>3.0</td>\n",
       "    </tr>\n",
       "    <tr>\n",
       "      <th>...</th>\n",
       "      <td>...</td>\n",
       "      <td>...</td>\n",
       "    </tr>\n",
       "    <tr>\n",
       "      <th>7831</th>\n",
       "      <td>为 的 紫砂 煲 不合格 市民 请慎 买</td>\n",
       "      <td>1.0</td>\n",
       "    </tr>\n",
       "    <tr>\n",
       "      <th>7838</th>\n",
       "      <td>方舟子 曝唐骏 自传 造假 所涉 大学 已 关门</td>\n",
       "      <td>1.0</td>\n",
       "    </tr>\n",
       "    <tr>\n",
       "      <th>7859</th>\n",
       "      <td>董事会 审计 委员会 对 投资 合肥市 国正 小额贷款 有限公司 的 图</td>\n",
       "      <td>2.0</td>\n",
       "    </tr>\n",
       "    <tr>\n",
       "      <th>26719</th>\n",
       "      <td>借壳 * 源 发成 定局</td>\n",
       "      <td>2.0</td>\n",
       "    </tr>\n",
       "    <tr>\n",
       "      <th>30200</th>\n",
       "      <td>福建 上杭县 称 紫 铜矿 渗入 汀江 废水 无 剧毒 物</td>\n",
       "      <td>2.0</td>\n",
       "    </tr>\n",
       "  </tbody>\n",
       "</table>\n",
       "<p>77 rows × 2 columns</p>\n",
       "</div>"
      ],
      "text/plain": [
       "                                  Newstitle  sentiment\n",
       "467                        推出 首款 量产 混合 动 轿车        3.0\n",
       "822            中国 南车 大 股东 拟 亿 护盘 新一轮 增持潮 再现        3.0\n",
       "1226                    亿 增资 蒙维 科技 欲 做 聚乙烯醇        3.0\n",
       "2220                      南海发展 水务 新兴产业 遍地开花        3.0\n",
       "2350               十个 亿 计划 曝光 煤炭 重组 或 掀 新高潮        3.0\n",
       "...                                     ...        ...\n",
       "7831                   为 的 紫砂 煲 不合格 市民 请慎 买        1.0\n",
       "7838               方舟子 曝唐骏 自传 造假 所涉 大学 已 关门        1.0\n",
       "7859   董事会 审计 委员会 对 投资 合肥市 国正 小额贷款 有限公司 的 图        2.0\n",
       "26719                          借壳 * 源 发成 定局        2.0\n",
       "30200         福建 上杭县 称 紫 铜矿 渗入 汀江 废水 无 剧毒 物        2.0\n",
       "\n",
       "[77 rows x 2 columns]"
      ]
     },
     "execution_count": 112,
     "metadata": {},
     "output_type": "execute_result"
    }
   ],
   "source": [
    "data.loc[idx, 'sentiment'] = diff['sentiment'].to_list()\n",
    "data[idx]"
   ]
  },
  {
   "cell_type": "code",
   "execution_count": 119,
   "metadata": {},
   "outputs": [],
   "source": [
    "# 保存自检的数据集\n",
    "data.to_csv('output/sample.csv', index=False, encoding='utf-8-sig')"
   ]
  },
  {
   "cell_type": "markdown",
   "metadata": {},
   "source": [
    "# 4 循环2: 增加样本"
   ]
  },
  {
   "cell_type": "code",
   "execution_count": 120,
   "metadata": {},
   "outputs": [
    {
     "data": {
      "text/html": [
       "<div>\n",
       "<style scoped>\n",
       "    .dataframe tbody tr th:only-of-type {\n",
       "        vertical-align: middle;\n",
       "    }\n",
       "\n",
       "    .dataframe tbody tr th {\n",
       "        vertical-align: top;\n",
       "    }\n",
       "\n",
       "    .dataframe thead th {\n",
       "        text-align: right;\n",
       "    }\n",
       "</style>\n",
       "<table border=\"1\" class=\"dataframe\">\n",
       "  <thead>\n",
       "    <tr style=\"text-align: right;\">\n",
       "      <th></th>\n",
       "      <th>Newstitle</th>\n",
       "    </tr>\n",
       "  </thead>\n",
       "  <tbody>\n",
       "    <tr>\n",
       "      <th>0</th>\n",
       "      <td>房价飞涨住房梦难圆 购房者希望房价回到五年前</td>\n",
       "    </tr>\n",
       "    <tr>\n",
       "      <th>1</th>\n",
       "      <td>广州闲置土地再调查 昔日地王今日鱼塘</td>\n",
       "    </tr>\n",
       "    <tr>\n",
       "      <th>2</th>\n",
       "      <td>陈宁远：勿放大股指期货作用</td>\n",
       "    </tr>\n",
       "    <tr>\n",
       "      <th>3</th>\n",
       "      <td>番禺地王动工谋做楼王 购房者承受高地价之苦</td>\n",
       "    </tr>\n",
       "    <tr>\n",
       "      <th>4</th>\n",
       "      <td>陈宁远称不要放大股指期货作用</td>\n",
       "    </tr>\n",
       "    <tr>\n",
       "      <th>...</th>\n",
       "      <td>...</td>\n",
       "    </tr>\n",
       "    <tr>\n",
       "      <th>395339</th>\n",
       "      <td>东电B股1.81亿增资浙能北海水力</td>\n",
       "    </tr>\n",
       "    <tr>\n",
       "      <th>395340</th>\n",
       "      <td>东电B决定1.81亿增资北海水力</td>\n",
       "    </tr>\n",
       "    <tr>\n",
       "      <th>395341</th>\n",
       "      <td>B股：个股全线飘红 沪B指放量大涨5%</td>\n",
       "    </tr>\n",
       "    <tr>\n",
       "      <th>395342</th>\n",
       "      <td>沪深B股收盘震荡下跌 深B指继续刷新高点</td>\n",
       "    </tr>\n",
       "    <tr>\n",
       "      <th>395343</th>\n",
       "      <td>东电B股 ：2010年10月08日最新提示 人事变动 (900949)</td>\n",
       "    </tr>\n",
       "  </tbody>\n",
       "</table>\n",
       "<p>395344 rows × 1 columns</p>\n",
       "</div>"
      ],
      "text/plain": [
       "                                  Newstitle\n",
       "0                    房价飞涨住房梦难圆 购房者希望房价回到五年前\n",
       "1                        广州闲置土地再调查 昔日地王今日鱼塘\n",
       "2                             陈宁远：勿放大股指期货作用\n",
       "3                     番禺地王动工谋做楼王 购房者承受高地价之苦\n",
       "4                            陈宁远称不要放大股指期货作用\n",
       "...                                     ...\n",
       "395339                    东电B股1.81亿增资浙能北海水力\n",
       "395340                     东电B决定1.81亿增资北海水力\n",
       "395341                  B股：个股全线飘红 沪B指放量大涨5%\n",
       "395342                 沪深B股收盘震荡下跌 深B指继续刷新高点\n",
       "395343  东电B股 ：2010年10月08日最新提示 人事变动 (900949)\n",
       "\n",
       "[395344 rows x 1 columns]"
      ]
     },
     "execution_count": 120,
     "metadata": {},
     "output_type": "execute_result"
    }
   ],
   "source": [
    "# 读取数据和词频统计\n",
    "total = pd.read_csv('data/webnews/2010.csv', usecols=['Newstitle'], encoding='utf-8-sig')\n",
    "total.drop_duplicates(inplace=True)\n",
    "total.dropna(inplace=True)\n",
    "total.reset_index(inplace=True, drop=True)\n",
    "data = pd.read_csv('output/sample.csv', encoding='utf-8-sig')\n",
    "stopwords = pd.read_csv('dict/stopword.csv', encoding='utf-8-sig')"
   ]
  },
  {
   "cell_type": "code",
   "execution_count": 127,
   "metadata": {},
   "outputs": [],
   "source": [
    "total['Newstitle'] = clean_text(total['Newstitle'], stopwords['Coname'].to_list())\n",
    "total.to_csv('data/splited2010.csv', encoding='utf-8-sig', index=False)"
   ]
  },
  {
   "cell_type": "markdown",
   "metadata": {},
   "source": [
    "## 4.1 词向量化和TensorFlow模型"
   ]
  },
  {
   "cell_type": "code",
   "execution_count": 130,
   "metadata": {},
   "outputs": [
    {
     "name": "stderr",
     "output_type": "stream",
     "text": [
      "2022-05-02 20:45:04.304373: I tensorflow/core/grappler/optimizers/custom_graph_optimizer_registry.cc:113] Plugin optimizer for device_type GPU is enabled.\n"
     ]
    },
    {
     "name": "stdout",
     "output_type": "stream",
     "text": [
      "Epoch 1/5\n",
      "  1/668 [..............................] - ETA: 6:15 - loss: 1.1056 - accuracy: 0.1562"
     ]
    },
    {
     "name": "stderr",
     "output_type": "stream",
     "text": [
      "2022-05-02 20:45:05.346607: I tensorflow/core/grappler/optimizers/custom_graph_optimizer_registry.cc:113] Plugin optimizer for device_type GPU is enabled.\n"
     ]
    },
    {
     "name": "stdout",
     "output_type": "stream",
     "text": [
      "666/668 [============================>.] - ETA: 0s - loss: 0.5887 - accuracy: 0.7859"
     ]
    },
    {
     "name": "stderr",
     "output_type": "stream",
     "text": [
      "2022-05-02 20:45:13.355836: I tensorflow/core/grappler/optimizers/custom_graph_optimizer_registry.cc:113] Plugin optimizer for device_type GPU is enabled.\n"
     ]
    },
    {
     "name": "stdout",
     "output_type": "stream",
     "text": [
      "668/668 [==============================] - 10s 14ms/step - loss: 0.5881 - accuracy: 0.7860 - val_loss: 0.2830 - val_accuracy: 0.8745\n",
      "Epoch 2/5\n",
      "668/668 [==============================] - 9s 13ms/step - loss: 0.1780 - accuracy: 0.9334 - val_loss: 0.1179 - val_accuracy: 0.9641\n",
      "Epoch 3/5\n",
      "668/668 [==============================] - 8s 12ms/step - loss: 0.0644 - accuracy: 0.9849 - val_loss: 0.0587 - val_accuracy: 0.9829\n",
      "Epoch 4/5\n",
      "668/668 [==============================] - 8s 12ms/step - loss: 0.0232 - accuracy: 0.9956 - val_loss: 0.0394 - val_accuracy: 0.9878\n",
      "Epoch 5/5\n",
      "668/668 [==============================] - 8s 12ms/step - loss: 0.0101 - accuracy: 0.9985 - val_loss: 0.0283 - val_accuracy: 0.9924\n"
     ]
    }
   ],
   "source": [
    "model = use_default_model(data['Newstitle'], data['sentiment'])"
   ]
  },
  {
   "cell_type": "markdown",
   "metadata": {},
   "source": [
    "## 4.2 预测新样本"
   ]
  },
  {
   "cell_type": "code",
   "execution_count": 132,
   "metadata": {},
   "outputs": [
    {
     "name": "stderr",
     "output_type": "stream",
     "text": [
      "2022-05-02 20:46:18.094495: I tensorflow/core/grappler/optimizers/custom_graph_optimizer_registry.cc:113] Plugin optimizer for device_type GPU is enabled.\n"
     ]
    }
   ],
   "source": [
    "result = classify(model, total['Newstitle'].to_list(), [1,2,3], 'sentiment')"
   ]
  },
  {
   "cell_type": "code",
   "execution_count": 133,
   "metadata": {},
   "outputs": [
    {
     "data": {
      "image/png": "[encoded data removed]",
      "text/plain": [
       "<Figure size 1080x288 with 3 Axes>"
      ]
     },
     "metadata": {
      "needs_background": "light"
     },
     "output_type": "display_data"
    }
   ],
   "source": [
    "plot_score(result, 'sentiment', [1,2,3], 3)"
   ]
  },
  {
   "cell_type": "markdown",
   "metadata": {},
   "source": [
    "## 4.3 添加可信样本"
   ]
  },
  {
   "cell_type": "code",
   "execution_count": 170,
   "metadata": {},
   "outputs": [
    {
     "data": {
      "text/html": [
       "<div>\n",
       "<style scoped>\n",
       "    .dataframe tbody tr th:only-of-type {\n",
       "        vertical-align: middle;\n",
       "    }\n",
       "\n",
       "    .dataframe tbody tr th {\n",
       "        vertical-align: top;\n",
       "    }\n",
       "\n",
       "    .dataframe thead th {\n",
       "        text-align: right;\n",
       "    }\n",
       "</style>\n",
       "<table border=\"1\" class=\"dataframe\">\n",
       "  <thead>\n",
       "    <tr style=\"text-align: right;\">\n",
       "      <th></th>\n",
       "      <th>Newstitle</th>\n",
       "    </tr>\n",
       "    <tr>\n",
       "      <th>sentiment</th>\n",
       "      <th></th>\n",
       "    </tr>\n",
       "  </thead>\n",
       "  <tbody>\n",
       "    <tr>\n",
       "      <th>1</th>\n",
       "      <td>3474</td>\n",
       "    </tr>\n",
       "    <tr>\n",
       "      <th>2</th>\n",
       "      <td>22588</td>\n",
       "    </tr>\n",
       "    <tr>\n",
       "      <th>3</th>\n",
       "      <td>4456</td>\n",
       "    </tr>\n",
       "  </tbody>\n",
       "</table>\n",
       "</div>"
      ],
      "text/plain": [
       "           Newstitle\n",
       "sentiment           \n",
       "1               3474\n",
       "2              22588\n",
       "3               4456"
      ]
     },
     "execution_count": 170,
     "metadata": {},
     "output_type": "execute_result"
    }
   ],
   "source": [
    "# 检查样本平衡\n",
    "data.groupby('sentiment').count()"
   ]
  },
  {
   "cell_type": "code",
   "execution_count": 176,
   "metadata": {},
   "outputs": [],
   "source": [
    "# 取样: 各30000\n",
    "newsample = new_sample(total, result, 'sentiment', 20000)\n",
    "newsample = newsample[newsample['sentiment']!=2]"
   ]
  },
  {
   "cell_type": "code",
   "execution_count": 179,
   "metadata": {},
   "outputs": [
    {
     "data": {
      "text/html": [
       "<div>\n",
       "<style scoped>\n",
       "    .dataframe tbody tr th:only-of-type {\n",
       "        vertical-align: middle;\n",
       "    }\n",
       "\n",
       "    .dataframe tbody tr th {\n",
       "        vertical-align: top;\n",
       "    }\n",
       "\n",
       "    .dataframe thead th {\n",
       "        text-align: right;\n",
       "    }\n",
       "</style>\n",
       "<table border=\"1\" class=\"dataframe\">\n",
       "  <thead>\n",
       "    <tr style=\"text-align: right;\">\n",
       "      <th></th>\n",
       "      <th>Newstitle</th>\n",
       "      <th>sentiment</th>\n",
       "    </tr>\n",
       "  </thead>\n",
       "  <tbody>\n",
       "    <tr>\n",
       "      <th>0</th>\n",
       "      <td>超 预期 产能 发掘 带动 营收 大幅 上升 新 项目 投资 增加 公司 成长 后劲</td>\n",
       "      <td>3</td>\n",
       "    </tr>\n",
       "    <tr>\n",
       "      <th>1</th>\n",
       "      <td>业 行业 景气 再 高 升值 助力 业绩 飙升</td>\n",
       "      <td>3</td>\n",
       "    </tr>\n",
       "    <tr>\n",
       "      <th>2</th>\n",
       "      <td>业绩 暴增 逾 两倍 股价 再 高</td>\n",
       "      <td>3</td>\n",
       "    </tr>\n",
       "    <tr>\n",
       "      <th>3</th>\n",
       "      <td>良好 的 业绩 保障 为 基础 资源 扩张 与 冶炼 优势 强化 并行 的 战略 推动 公司...</td>\n",
       "      <td>3</td>\n",
       "    </tr>\n",
       "    <tr>\n",
       "      <th>4</th>\n",
       "      <td>首旅股份 回升 带动 业绩 稳定增长 强烈推荐</td>\n",
       "      <td>3</td>\n",
       "    </tr>\n",
       "    <tr>\n",
       "      <th>...</th>\n",
       "      <td>...</td>\n",
       "      <td>...</td>\n",
       "    </tr>\n",
       "    <tr>\n",
       "      <th>70512</th>\n",
       "      <td>业绩 稳定 成长 可 期</td>\n",
       "      <td>3</td>\n",
       "    </tr>\n",
       "    <tr>\n",
       "      <th>70513</th>\n",
       "      <td>罗非鱼 项目 将 使 利润 增长</td>\n",
       "      <td>3</td>\n",
       "    </tr>\n",
       "    <tr>\n",
       "      <th>70515</th>\n",
       "      <td>特种 业绩 尚待 兑现 推荐</td>\n",
       "      <td>3</td>\n",
       "    </tr>\n",
       "    <tr>\n",
       "      <th>70516</th>\n",
       "      <td>发展 类似 国外 医疗 推荐</td>\n",
       "      <td>3</td>\n",
       "    </tr>\n",
       "    <tr>\n",
       "      <th>70517</th>\n",
       "      <td>快讯 放量 大涨 领涨 卖盘 抛压 放大</td>\n",
       "      <td>3</td>\n",
       "    </tr>\n",
       "  </tbody>\n",
       "</table>\n",
       "<p>57569 rows × 2 columns</p>\n",
       "</div>"
      ],
      "text/plain": [
       "                                               Newstitle  sentiment\n",
       "0             超 预期 产能 发掘 带动 营收 大幅 上升 新 项目 投资 增加 公司 成长 后劲          3\n",
       "1                                业 行业 景气 再 高 升值 助力 业绩 飙升          3\n",
       "2                                      业绩 暴增 逾 两倍 股价 再 高          3\n",
       "3      良好 的 业绩 保障 为 基础 资源 扩张 与 冶炼 优势 强化 并行 的 战略 推动 公司...          3\n",
       "4                                首旅股份 回升 带动 业绩 稳定增长 强烈推荐          3\n",
       "...                                                  ...        ...\n",
       "70512                                       业绩 稳定 成长 可 期          3\n",
       "70513                                   罗非鱼 项目 将 使 利润 增长          3\n",
       "70515                                     特种 业绩 尚待 兑现 推荐          3\n",
       "70516                                     发展 类似 国外 医疗 推荐          3\n",
       "70517                               快讯 放量 大涨 领涨 卖盘 抛压 放大          3\n",
       "\n",
       "[57569 rows x 2 columns]"
      ]
     },
     "execution_count": 179,
     "metadata": {},
     "output_type": "execute_result"
    }
   ],
   "source": [
    "data = pd.concat([data, newsample[['Newstitle', 'sentiment']]], ignore_index=True)\n",
    "data.drop_duplicates(subset='Newstitle')"
   ]
  },
  {
   "cell_type": "code",
   "execution_count": 180,
   "metadata": {},
   "outputs": [
    {
     "data": {
      "text/html": [
       "<div>\n",
       "<style scoped>\n",
       "    .dataframe tbody tr th:only-of-type {\n",
       "        vertical-align: middle;\n",
       "    }\n",
       "\n",
       "    .dataframe tbody tr th {\n",
       "        vertical-align: top;\n",
       "    }\n",
       "\n",
       "    .dataframe thead th {\n",
       "        text-align: right;\n",
       "    }\n",
       "</style>\n",
       "<table border=\"1\" class=\"dataframe\">\n",
       "  <thead>\n",
       "    <tr style=\"text-align: right;\">\n",
       "      <th></th>\n",
       "      <th>Newstitle</th>\n",
       "    </tr>\n",
       "    <tr>\n",
       "      <th>sentiment</th>\n",
       "      <th></th>\n",
       "    </tr>\n",
       "  </thead>\n",
       "  <tbody>\n",
       "    <tr>\n",
       "      <th>1</th>\n",
       "      <td>23474</td>\n",
       "    </tr>\n",
       "    <tr>\n",
       "      <th>2</th>\n",
       "      <td>22588</td>\n",
       "    </tr>\n",
       "    <tr>\n",
       "      <th>3</th>\n",
       "      <td>24456</td>\n",
       "    </tr>\n",
       "  </tbody>\n",
       "</table>\n",
       "</div>"
      ],
      "text/plain": [
       "           Newstitle\n",
       "sentiment           \n",
       "1              23474\n",
       "2              22588\n",
       "3              24456"
      ]
     },
     "execution_count": 180,
     "metadata": {},
     "output_type": "execute_result"
    }
   ],
   "source": [
    "# 检查结果样本\n",
    "data.groupby('sentiment').count()"
   ]
  },
  {
   "cell_type": "code",
   "execution_count": 181,
   "metadata": {},
   "outputs": [],
   "source": [
    "# 输出\n",
    "data.to_csv('output/sample_final.csv', index=False, encoding='utf-8-sig')"
   ]
  },
  {
   "cell_type": "markdown",
   "metadata": {},
   "source": [
    "# 5 最终模型训练和保存\n",
    "可以使用默认模型也可以使用自定模型"
   ]
  },
  {
   "cell_type": "code",
   "execution_count": null,
   "metadata": {},
   "outputs": [],
   "source": [
    "data = pd.read_csv('output/sample_final.csv', encoding='utf-8-sig')"
   ]
  },
  {
   "cell_type": "code",
   "execution_count": 183,
   "metadata": {},
   "outputs": [
    {
     "name": "stderr",
     "output_type": "stream",
     "text": [
      "2022-05-02 21:19:09.589253: I tensorflow/core/grappler/optimizers/custom_graph_optimizer_registry.cc:113] Plugin optimizer for device_type GPU is enabled.\n"
     ]
    },
    {
     "name": "stdout",
     "output_type": "stream",
     "text": [
      "Epoch 1/5\n",
      "   6/1543 [..............................] - ETA: 18s - loss: 1.0990 - accuracy: 0.3229 "
     ]
    },
    {
     "name": "stderr",
     "output_type": "stream",
     "text": [
      "2022-05-02 21:19:11.130450: I tensorflow/core/grappler/optimizers/custom_graph_optimizer_registry.cc:113] Plugin optimizer for device_type GPU is enabled.\n"
     ]
    },
    {
     "name": "stdout",
     "output_type": "stream",
     "text": [
      "1540/1543 [============================>.] - ETA: 0s - loss: 0.3047 - accuracy: 0.9080"
     ]
    },
    {
     "name": "stderr",
     "output_type": "stream",
     "text": [
      "2022-05-02 21:19:27.436186: I tensorflow/core/grappler/optimizers/custom_graph_optimizer_registry.cc:113] Plugin optimizer for device_type GPU is enabled.\n"
     ]
    },
    {
     "name": "stdout",
     "output_type": "stream",
     "text": [
      "1543/1543 [==============================] - 19s 12ms/step - loss: 0.3043 - accuracy: 0.9081 - val_loss: 0.0329 - val_accuracy: 0.9950\n",
      "Epoch 2/5\n",
      "1543/1543 [==============================] - 19s 12ms/step - loss: 0.0161 - accuracy: 0.9970 - val_loss: 0.0116 - val_accuracy: 0.9976\n",
      "Epoch 3/5\n",
      "1543/1543 [==============================] - 19s 12ms/step - loss: 0.0050 - accuracy: 0.9991 - val_loss: 0.0083 - val_accuracy: 0.9979\n",
      "Epoch 4/5\n",
      "1543/1543 [==============================] - 19s 12ms/step - loss: 0.0021 - accuracy: 0.9996 - val_loss: 0.0068 - val_accuracy: 0.9981\n",
      "Epoch 5/5\n",
      "1543/1543 [==============================] - 18s 12ms/step - loss: 0.0010 - accuracy: 0.9999 - val_loss: 0.0079 - val_accuracy: 0.9978\n"
     ]
    }
   ],
   "source": [
    "model = use_default_model(data['Newstitle'], data['sentiment'])"
   ]
  },
  {
   "cell_type": "code",
   "execution_count": 185,
   "metadata": {},
   "outputs": [
    {
     "name": "stderr",
     "output_type": "stream",
     "text": [
      "2022-05-02 21:25:23.843895: I tensorflow/core/grappler/optimizers/custom_graph_optimizer_registry.cc:113] Plugin optimizer for device_type GPU is enabled.\n"
     ]
    }
   ],
   "source": [
    "result = classify(model, total['Newstitle'].to_list(), [1,2,3], 'sentiment')"
   ]
  },
  {
   "cell_type": "code",
   "execution_count": 186,
   "metadata": {},
   "outputs": [
    {
     "data": {
      "image/png": "[encoded data removed]",
      "text/plain": [
       "<Figure size 1080x288 with 3 Axes>"
      ]
     },
     "metadata": {
      "needs_background": "light"
     },
     "output_type": "display_data"
    }
   ],
   "source": [
    "plot_score(result, 'sentiment', [1,2,3], 3)"
   ]
  },
  {
   "cell_type": "code",
   "execution_count": 188,
   "metadata": {},
   "outputs": [
    {
     "data": {
      "text/html": [
       "<div>\n",
       "<style scoped>\n",
       "    .dataframe tbody tr th:only-of-type {\n",
       "        vertical-align: middle;\n",
       "    }\n",
       "\n",
       "    .dataframe tbody tr th {\n",
       "        vertical-align: top;\n",
       "    }\n",
       "\n",
       "    .dataframe thead th {\n",
       "        text-align: right;\n",
       "    }\n",
       "</style>\n",
       "<table border=\"1\" class=\"dataframe\">\n",
       "  <thead>\n",
       "    <tr style=\"text-align: right;\">\n",
       "      <th></th>\n",
       "      <th>Newstitle</th>\n",
       "      <th>1</th>\n",
       "      <th>2</th>\n",
       "      <th>3</th>\n",
       "      <th>sentiment</th>\n",
       "      <th>score</th>\n",
       "    </tr>\n",
       "  </thead>\n",
       "  <tbody>\n",
       "    <tr>\n",
       "      <th>38933</th>\n",
       "      <td>* 传媒 二 股东 减持 股权</td>\n",
       "      <td>9.997755e-01</td>\n",
       "      <td>2.244697e-04</td>\n",
       "      <td>1.570565e-07</td>\n",
       "      <td>1</td>\n",
       "      <td>0.999775</td>\n",
       "    </tr>\n",
       "    <tr>\n",
       "      <th>68943</th>\n",
       "      <td>老 鞋匠 捡 到 元 全部 上交 被 熟人 骂 太 傻 图</td>\n",
       "      <td>9.996872e-01</td>\n",
       "      <td>3.125797e-04</td>\n",
       "      <td>2.357052e-07</td>\n",
       "      <td>1</td>\n",
       "      <td>0.999687</td>\n",
       "    </tr>\n",
       "    <tr>\n",
       "      <th>206131</th>\n",
       "      <td>年 月 日 最新 提示 融资 融券</td>\n",
       "      <td>9.999874e-01</td>\n",
       "      <td>1.055282e-05</td>\n",
       "      <td>1.979766e-06</td>\n",
       "      <td>1</td>\n",
       "      <td>0.999987</td>\n",
       "    </tr>\n",
       "    <tr>\n",
       "      <th>259030</th>\n",
       "      <td>主力 仓皇出逃 新年 破发 第 股</td>\n",
       "      <td>9.993908e-01</td>\n",
       "      <td>5.514564e-04</td>\n",
       "      <td>5.771103e-05</td>\n",
       "      <td>1</td>\n",
       "      <td>0.999391</td>\n",
       "    </tr>\n",
       "    <tr>\n",
       "      <th>167076</th>\n",
       "      <td>深航 加速 航线 整合 将 产生 协同效应 亿元</td>\n",
       "      <td>7.213455e-01</td>\n",
       "      <td>1.818202e-01</td>\n",
       "      <td>9.683418e-02</td>\n",
       "      <td>1</td>\n",
       "      <td>0.721346</td>\n",
       "    </tr>\n",
       "    <tr>\n",
       "      <th>252338</th>\n",
       "      <td>年 月 日 最新 提示 股权 转让 人事变动</td>\n",
       "      <td>1.000000e+00</td>\n",
       "      <td>2.724800e-09</td>\n",
       "      <td>1.197280e-08</td>\n",
       "      <td>1</td>\n",
       "      <td>1.000000</td>\n",
       "    </tr>\n",
       "    <tr>\n",
       "      <th>270817</th>\n",
       "      <td>股市 遭遇 黑色 星期二 谁 是 幕后 黑手</td>\n",
       "      <td>9.994104e-01</td>\n",
       "      <td>5.894986e-04</td>\n",
       "      <td>7.198472e-08</td>\n",
       "      <td>1</td>\n",
       "      <td>0.999410</td>\n",
       "    </tr>\n",
       "    <tr>\n",
       "      <th>164552</th>\n",
       "      <td>中 力促 成品油 消费税 转为 价外 征收</td>\n",
       "      <td>2.885850e-03</td>\n",
       "      <td>9.970909e-01</td>\n",
       "      <td>2.333240e-05</td>\n",
       "      <td>2</td>\n",
       "      <td>0.997091</td>\n",
       "    </tr>\n",
       "    <tr>\n",
       "      <th>267860</th>\n",
       "      <td>高铁 列车 目前 仍 有 足够 安全 余量</td>\n",
       "      <td>5.354878e-02</td>\n",
       "      <td>9.406748e-01</td>\n",
       "      <td>5.776417e-03</td>\n",
       "      <td>2</td>\n",
       "      <td>0.940675</td>\n",
       "    </tr>\n",
       "    <tr>\n",
       "      <th>244425</th>\n",
       "      <td>易 基金 新基 点评 断档 个 月 后 的 首 只 货基</td>\n",
       "      <td>2.757260e-03</td>\n",
       "      <td>9.970938e-01</td>\n",
       "      <td>1.489367e-04</td>\n",
       "      <td>2</td>\n",
       "      <td>0.997094</td>\n",
       "    </tr>\n",
       "    <tr>\n",
       "      <th>161577</th>\n",
       "      <td>国际 油价 破 冲 国内 油价 调整 重 上 日程</td>\n",
       "      <td>2.812122e-01</td>\n",
       "      <td>7.187091e-01</td>\n",
       "      <td>7.875096e-05</td>\n",
       "      <td>2</td>\n",
       "      <td>0.718709</td>\n",
       "    </tr>\n",
       "    <tr>\n",
       "      <th>272513</th>\n",
       "      <td>中海油 拟 联手 加纳 亿美元 竞购 资产</td>\n",
       "      <td>1.949459e-03</td>\n",
       "      <td>9.612037e-01</td>\n",
       "      <td>3.684693e-02</td>\n",
       "      <td>2</td>\n",
       "      <td>0.961204</td>\n",
       "    </tr>\n",
       "    <tr>\n",
       "      <th>203536</th>\n",
       "      <td>子公司 出售 亿元 资产</td>\n",
       "      <td>2.325620e-03</td>\n",
       "      <td>9.790537e-01</td>\n",
       "      <td>1.862076e-02</td>\n",
       "      <td>2</td>\n",
       "      <td>0.979054</td>\n",
       "    </tr>\n",
       "    <tr>\n",
       "      <th>34339</th>\n",
       "      <td>亿购 洗衣机 资产</td>\n",
       "      <td>5.335578e-03</td>\n",
       "      <td>8.533304e-01</td>\n",
       "      <td>1.413341e-01</td>\n",
       "      <td>2</td>\n",
       "      <td>0.853330</td>\n",
       "    </tr>\n",
       "    <tr>\n",
       "      <th>241944</th>\n",
       "      <td>年 公募 基金 十大</td>\n",
       "      <td>1.446821e-01</td>\n",
       "      <td>8.481249e-01</td>\n",
       "      <td>7.192966e-03</td>\n",
       "      <td>2</td>\n",
       "      <td>0.848125</td>\n",
       "    </tr>\n",
       "    <tr>\n",
       "      <th>253928</th>\n",
       "      <td>拟购 亩 地作 搬迁 用地</td>\n",
       "      <td>1.170516e-04</td>\n",
       "      <td>9.998426e-01</td>\n",
       "      <td>4.035600e-05</td>\n",
       "      <td>2</td>\n",
       "      <td>0.999843</td>\n",
       "    </tr>\n",
       "    <tr>\n",
       "      <th>198749</th>\n",
       "      <td>九龙 电力 子公司 签 亿 项目 合同</td>\n",
       "      <td>9.043833e-05</td>\n",
       "      <td>9.998010e-01</td>\n",
       "      <td>1.085998e-04</td>\n",
       "      <td>2</td>\n",
       "      <td>0.999801</td>\n",
       "    </tr>\n",
       "    <tr>\n",
       "      <th>23577</th>\n",
       "      <td>东海 期货 团队 成员 说明</td>\n",
       "      <td>2.406035e-05</td>\n",
       "      <td>9.999745e-01</td>\n",
       "      <td>1.407759e-06</td>\n",
       "      <td>2</td>\n",
       "      <td>0.999974</td>\n",
       "    </tr>\n",
       "    <tr>\n",
       "      <th>207408</th>\n",
       "      <td>中国 包装 印刷 工业 发展趋势 和 重点</td>\n",
       "      <td>5.620289e-05</td>\n",
       "      <td>9.999397e-01</td>\n",
       "      <td>4.069097e-06</td>\n",
       "      <td>2</td>\n",
       "      <td>0.999940</td>\n",
       "    </tr>\n",
       "    <tr>\n",
       "      <th>79632</th>\n",
       "      <td>为 名 政协委员 提供 乳制品 世博 牛奶 倾情 入驻 两会</td>\n",
       "      <td>3.910662e-06</td>\n",
       "      <td>9.999943e-01</td>\n",
       "      <td>1.824306e-06</td>\n",
       "      <td>2</td>\n",
       "      <td>0.999994</td>\n",
       "    </tr>\n",
       "    <tr>\n",
       "      <th>11881</th>\n",
       "      <td>目标 锁定 电视 品牌</td>\n",
       "      <td>1.659157e-05</td>\n",
       "      <td>9.997652e-01</td>\n",
       "      <td>2.182396e-04</td>\n",
       "      <td>2</td>\n",
       "      <td>0.999765</td>\n",
       "    </tr>\n",
       "    <tr>\n",
       "      <th>153746</th>\n",
       "      <td>谢建龙 公开 潜入</td>\n",
       "      <td>1.343291e-01</td>\n",
       "      <td>6.050649e-01</td>\n",
       "      <td>2.606061e-01</td>\n",
       "      <td>2</td>\n",
       "      <td>0.605065</td>\n",
       "    </tr>\n",
       "    <tr>\n",
       "      <th>132874</th>\n",
       "      <td>蔡宇清 有 乞 稳 迹象 建议 持有 等待</td>\n",
       "      <td>1.121779e-05</td>\n",
       "      <td>9.999875e-01</td>\n",
       "      <td>1.271438e-06</td>\n",
       "      <td>2</td>\n",
       "      <td>0.999987</td>\n",
       "    </tr>\n",
       "    <tr>\n",
       "      <th>110443</th>\n",
       "      <td>各国 央行 惜售 引爆 金价 股 节后 首日 暴涨</td>\n",
       "      <td>2.228382e-05</td>\n",
       "      <td>3.200020e-05</td>\n",
       "      <td>9.999458e-01</td>\n",
       "      <td>3</td>\n",
       "      <td>0.999946</td>\n",
       "    </tr>\n",
       "    <tr>\n",
       "      <th>92658</th>\n",
       "      <td>甲流来 袭 流感疫苗 销量 有望 大增</td>\n",
       "      <td>4.647250e-05</td>\n",
       "      <td>1.865379e-06</td>\n",
       "      <td>9.999516e-01</td>\n",
       "      <td>3</td>\n",
       "      <td>0.999952</td>\n",
       "    </tr>\n",
       "    <tr>\n",
       "      <th>135739</th>\n",
       "      <td>商场 上半年 净利润 增长 跨 区域 门店 拓展 加速</td>\n",
       "      <td>1.753555e-09</td>\n",
       "      <td>1.685333e-10</td>\n",
       "      <td>1.000000e+00</td>\n",
       "      <td>3</td>\n",
       "      <td>1.000000</td>\n",
       "    </tr>\n",
       "    <tr>\n",
       "      <th>66103</th>\n",
       "      <td>华富 新闻 山东 首季 纯利 升</td>\n",
       "      <td>1.537937e-02</td>\n",
       "      <td>2.122304e-01</td>\n",
       "      <td>7.723901e-01</td>\n",
       "      <td>3</td>\n",
       "      <td>0.772390</td>\n",
       "    </tr>\n",
       "    <tr>\n",
       "      <th>153974</th>\n",
       "      <td>[ 公司 ] 预计 年 净利 同比 增长</td>\n",
       "      <td>2.966821e-06</td>\n",
       "      <td>1.002759e-08</td>\n",
       "      <td>9.999970e-01</td>\n",
       "      <td>3</td>\n",
       "      <td>0.999997</td>\n",
       "    </tr>\n",
       "    <tr>\n",
       "      <th>199063</th>\n",
       "      <td>年 解禁 约 千万 股 增持</td>\n",
       "      <td>2.573660e-01</td>\n",
       "      <td>1.024537e-02</td>\n",
       "      <td>7.323886e-01</td>\n",
       "      <td>3</td>\n",
       "      <td>0.732389</td>\n",
       "    </tr>\n",
       "    <tr>\n",
       "      <th>118937</th>\n",
       "      <td>声学 拓展 产品 快速增长</td>\n",
       "      <td>2.850740e-06</td>\n",
       "      <td>1.209718e-04</td>\n",
       "      <td>9.998761e-01</td>\n",
       "      <td>3</td>\n",
       "      <td>0.999876</td>\n",
       "    </tr>\n",
       "  </tbody>\n",
       "</table>\n",
       "</div>"
      ],
      "text/plain": [
       "                             Newstitle             1             2  \\\n",
       "38933                  * 传媒 二 股东 减持 股权  9.997755e-01  2.244697e-04   \n",
       "68943    老 鞋匠 捡 到 元 全部 上交 被 熟人 骂 太 傻 图  9.996872e-01  3.125797e-04   \n",
       "206131               年 月 日 最新 提示 融资 融券  9.999874e-01  1.055282e-05   \n",
       "259030               主力 仓皇出逃 新年 破发 第 股  9.993908e-01  5.514564e-04   \n",
       "167076        深航 加速 航线 整合 将 产生 协同效应 亿元  7.213455e-01  1.818202e-01   \n",
       "252338          年 月 日 最新 提示 股权 转让 人事变动  1.000000e+00  2.724800e-09   \n",
       "270817          股市 遭遇 黑色 星期二 谁 是 幕后 黑手  9.994104e-01  5.894986e-04   \n",
       "164552           中 力促 成品油 消费税 转为 价外 征收  2.885850e-03  9.970909e-01   \n",
       "267860           高铁 列车 目前 仍 有 足够 安全 余量  5.354878e-02  9.406748e-01   \n",
       "244425    易 基金 新基 点评 断档 个 月 后 的 首 只 货基  2.757260e-03  9.970938e-01   \n",
       "161577       国际 油价 破 冲 国内 油价 调整 重 上 日程  2.812122e-01  7.187091e-01   \n",
       "272513           中海油 拟 联手 加纳 亿美元 竞购 资产  1.949459e-03  9.612037e-01   \n",
       "203536                    子公司 出售 亿元 资产  2.325620e-03  9.790537e-01   \n",
       "34339                        亿购 洗衣机 资产  5.335578e-03  8.533304e-01   \n",
       "241944                      年 公募 基金 十大  1.446821e-01  8.481249e-01   \n",
       "253928                   拟购 亩 地作 搬迁 用地  1.170516e-04  9.998426e-01   \n",
       "198749             九龙 电力 子公司 签 亿 项目 合同  9.043833e-05  9.998010e-01   \n",
       "23577                   东海 期货 团队 成员 说明  2.406035e-05  9.999745e-01   \n",
       "207408           中国 包装 印刷 工业 发展趋势 和 重点  5.620289e-05  9.999397e-01   \n",
       "79632   为 名 政协委员 提供 乳制品 世博 牛奶 倾情 入驻 两会  3.910662e-06  9.999943e-01   \n",
       "11881                      目标 锁定 电视 品牌  1.659157e-05  9.997652e-01   \n",
       "153746                       谢建龙 公开 潜入  1.343291e-01  6.050649e-01   \n",
       "132874           蔡宇清 有 乞 稳 迹象 建议 持有 等待  1.121779e-05  9.999875e-01   \n",
       "110443       各国 央行 惜售 引爆 金价 股 节后 首日 暴涨  2.228382e-05  3.200020e-05   \n",
       "92658              甲流来 袭 流感疫苗 销量 有望 大增  4.647250e-05  1.865379e-06   \n",
       "135739     商场 上半年 净利润 增长 跨 区域 门店 拓展 加速  1.753555e-09  1.685333e-10   \n",
       "66103                 华富 新闻 山东 首季 纯利 升  1.537937e-02  2.122304e-01   \n",
       "153974            [ 公司 ] 预计 年 净利 同比 增长  2.966821e-06  1.002759e-08   \n",
       "199063                  年 解禁 约 千万 股 增持  2.573660e-01  1.024537e-02   \n",
       "118937                   声学 拓展 产品 快速增长  2.850740e-06  1.209718e-04   \n",
       "\n",
       "                   3  sentiment     score  \n",
       "38933   1.570565e-07          1  0.999775  \n",
       "68943   2.357052e-07          1  0.999687  \n",
       "206131  1.979766e-06          1  0.999987  \n",
       "259030  5.771103e-05          1  0.999391  \n",
       "167076  9.683418e-02          1  0.721346  \n",
       "252338  1.197280e-08          1  1.000000  \n",
       "270817  7.198472e-08          1  0.999410  \n",
       "164552  2.333240e-05          2  0.997091  \n",
       "267860  5.776417e-03          2  0.940675  \n",
       "244425  1.489367e-04          2  0.997094  \n",
       "161577  7.875096e-05          2  0.718709  \n",
       "272513  3.684693e-02          2  0.961204  \n",
       "203536  1.862076e-02          2  0.979054  \n",
       "34339   1.413341e-01          2  0.853330  \n",
       "241944  7.192966e-03          2  0.848125  \n",
       "253928  4.035600e-05          2  0.999843  \n",
       "198749  1.085998e-04          2  0.999801  \n",
       "23577   1.407759e-06          2  0.999974  \n",
       "207408  4.069097e-06          2  0.999940  \n",
       "79632   1.824306e-06          2  0.999994  \n",
       "11881   2.182396e-04          2  0.999765  \n",
       "153746  2.606061e-01          2  0.605065  \n",
       "132874  1.271438e-06          2  0.999987  \n",
       "110443  9.999458e-01          3  0.999946  \n",
       "92658   9.999516e-01          3  0.999952  \n",
       "135739  1.000000e+00          3  1.000000  \n",
       "66103   7.723901e-01          3  0.772390  \n",
       "153974  9.999970e-01          3  0.999997  \n",
       "199063  7.323886e-01          3  0.732389  \n",
       "118937  9.998761e-01          3  0.999876  "
      ]
     },
     "execution_count": 188,
     "metadata": {},
     "output_type": "execute_result"
    }
   ],
   "source": [
    "# 结果抽检\n",
    "pd.concat([total, result], axis=1).sample(30).sort_values('sentiment')"
   ]
  },
  {
   "cell_type": "code",
   "execution_count": 189,
   "metadata": {},
   "outputs": [
    {
     "name": "stdout",
     "output_type": "stream",
     "text": [
      "WARNING:tensorflow:Compiled the loaded model, but the compiled metrics have yet to be built. `model.compile_metrics` will be empty until you train or evaluate the model.\n"
     ]
    },
    {
     "name": "stderr",
     "output_type": "stream",
     "text": [
      "2022-05-02 21:34:32.350864: W tensorflow/python/util/util.cc:368] Sets are not currently considered sequences, but this may change in the future, so consider avoiding using them.\n"
     ]
    },
    {
     "name": "stdout",
     "output_type": "stream",
     "text": [
      "INFO:tensorflow:Assets written to: saved_model/2010sample/assets\n"
     ]
    }
   ],
   "source": [
    "finalmodel = Sequential([model, tf.keras.layers.Softmax()])\n",
    "finalmodel.save('saved_model/2010sample')"
   ]
  }
 ],
 "metadata": {
  "interpreter": {
   "hash": "cde55274fe3a3e032603c6a882fcdbf3b73584b8ef85a6ad5ec2242b6786b61f"
  },
  "kernelspec": {
   "display_name": "Python 3.9.10 ('tensorflow')",
   "language": "python",
   "name": "python3"
  },
  "language_info": {
   "codemirror_mode": {
    "name": "ipython",
    "version": 3
   },
   "file_extension": ".py",
   "mimetype": "text/x-python",
   "name": "python",
   "nbconvert_exporter": "python",
   "pygments_lexer": "ipython3",
   "version": "3.9.10"
  },
  "orig_nbformat": 4
 },
 "nbformat": 4,
 "nbformat_minor": 2
}
